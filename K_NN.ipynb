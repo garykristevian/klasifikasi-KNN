{
  "nbformat": 4,
  "nbformat_minor": 0,
  "metadata": {
    "colab": {
      "provenance": []
    },
    "kernelspec": {
      "name": "python3",
      "display_name": "Python 3"
    },
    "language_info": {
      "name": "python"
    }
  },
  "cells": [
    {
      "cell_type": "code",
      "execution_count": null,
      "metadata": {
        "id": "_xXmJNN_Nw9_"
      },
      "outputs": [],
      "source": [
        "import pandas as pd\n",
        "from sklearn.model_selection import train_test_split\n",
        "from sklearn.preprocessing import LabelEncoder, StandardScaler\n",
        "from sklearn.neighbors import KNeighborsClassifier\n",
        "from sklearn.metrics import classification_report, accuracy_score\n",
        "\n",
        "file_path = '/content/Review Customer.csv'\n",
        "data = pd.read_csv(file_path)\n",
        "\n",
        "features = data[['Gender', 'Age', 'EstimatedSalary']]\n",
        "target = data['Purchased']\n",
        "\n",
        "encoder = LabelEncoder()\n",
        "features['Gender'] = encoder.fit_transform(features['Gender'])\n",
        "\n",
        "scaler = StandardScaler()\n",
        "features[['Age', 'EstimatedSalary']] = scaler.fit_transform(features[['Age', 'EstimatedSalary']])\n",
        "\n",
        "X_train, X_test, y_train, y_test = train_test_split(features, target, test_size=0.3, random_state=42)\n",
        "\n",
        "knn_model = KNeighborsClassifier(n_neighbors=5)\n",
        "knn_model.fit(X_train, y_train)\n",
        "\n",
        "y_pred = knn_model.predict(X_test)\n",
        "\n",
        "accuracy = accuracy_score(y_test, y_pred)\n",
        "report = classification_report(y_test, y_pred)\n",
        "\n",
        "print(\"K-NN Classification\")\n",
        "print(\"Accuracy:\", accuracy)\n",
        "print(\"\\nClassification Report:\\n\", report)\n"
      ]
    }
  ]
}